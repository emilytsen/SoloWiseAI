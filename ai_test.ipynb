{
 "cells": [
  {
   "cell_type": "code",
   "execution_count": 1,
   "metadata": {},
   "outputs": [
    {
     "name": "stdout",
     "output_type": "stream",
     "text": [
      "oi\n"
     ]
    }
   ],
   "source": [
    "print(\"oi\")"
   ]
  },
  {
   "cell_type": "code",
   "execution_count": 2,
   "metadata": {},
   "outputs": [],
   "source": [
    "from tensorflow.keras.models import load_model\n",
    "from tensorflow.keras.preprocessing import image\n",
    "import numpy as np"
   ]
  },
  {
   "cell_type": "code",
   "execution_count": 3,
   "metadata": {},
   "outputs": [
    {
     "name": "stderr",
     "output_type": "stream",
     "text": [
      "/Library/Frameworks/Python.framework/Versions/3.12/lib/python3.12/site-packages/keras/src/layers/convolutional/base_conv.py:99: UserWarning: Do not pass an `input_shape`/`input_dim` argument to a layer. When using Sequential models, prefer using an `Input(shape)` object as the first layer in the model instead.\n",
      "  super().__init__(\n",
      "WARNING:absl:Compiled the loaded model, but the compiled metrics have yet to be built. `model.compile_metrics` will be empty until you train or evaluate the model.\n",
      "WARNING:absl:Error in loading the saved optimizer state. As a result, your model is starting with a freshly initialized optimizer.\n"
     ]
    }
   ],
   "source": [
    "# Carregando o modelo treinado\n",
    "loaded_model = load_model('soil_classifier_model.h5')"
   ]
  },
  {
   "cell_type": "code",
   "execution_count": 3,
   "metadata": {},
   "outputs": [],
   "source": [
    "# Função para pré-processar a imagem\n",
    "def preprocess_image(img_path):\n",
    "    img = image.load_img(img_path, target_size=(128, 128))\n",
    "    img_array = image.img_to_array(img)\n",
    "    img_array = np.expand_dims(img_array, axis=0)\n",
    "    img_array = img_array / 255.0  # Normalizando os pixels para o intervalo [0, 1]\n",
    "    return img_array"
   ]
  },
  {
   "cell_type": "code",
   "execution_count": 4,
   "metadata": {},
   "outputs": [],
   "source": [
    "# Função para fazer a predição com probabilidades para ambas as classes\n",
    "def predict_soil_type_with_prob(img_path):\n",
    "    img_array = preprocess_image(img_path)\n",
    "    predictions = loaded_model.predict(img_array)\n",
    "    \n",
    "    # Obtendo as probabilidades associadas às classes \"black\" e \"red\"\n",
    "    black_probability = predictions[0][0]\n",
    "    red_probability = 1 - black_probability\n",
    "    \n",
    "    return black_probability, red_probability\n",
    "\n"
   ]
  },
  {
   "cell_type": "code",
   "execution_count": 6,
   "metadata": {},
   "outputs": [
    {
     "name": "stdout",
     "output_type": "stream",
     "text": [
      "1/1 [==============================] - 0s 30ms/step\n"
     ]
    }
   ],
   "source": [
    "# testando solo preto\n",
    "image_path = 'datasets/sand/test/black/IMG_6898.jpeg'\n",
    "black_probability, red_probability = predict_soil_type_with_prob(image_path)\n",
    "\n",
    "# Comparando as probabilidades e atribuindo a classe com maior probabilidade\n",
    "if black_probability > red_probability:\n",
    "    predicted_class = \"black\"\n",
    "    higher_probability = black_probability\n",
    "else:\n",
    "    predicted_class = \"red\"\n",
    "    higher_probability = red_probability\n",
    "\n",
    "    print(f\"A classe do solo é: {predicted_class}\")\n",
    "    print(f\"Probabilidade de ser solo preto: {black_probability * 100:.2f}%\")\n",
    "    print(f\"Probabilidade de ser solo vermelho: {red_probability * 100:.2f}%\")\n"
   ]
  },
  {
   "cell_type": "code",
   "execution_count": 10,
   "metadata": {},
   "outputs": [
    {
     "name": "stdout",
     "output_type": "stream",
     "text": [
      "1/1 [==============================] - 0s 36ms/step\n",
      "A classe do solo é: red\n",
      "Probabilidade de ser solo preto: 16.00%\n",
      "Probabilidade de ser solo vermelho: 84.00%\n"
     ]
    }
   ],
   "source": [
    "# testando solo vermelho\n",
    "image_path = 'datasets/sand/test/red/_1220610.JPG'\n",
    "black_probability, red_probability = predict_soil_type_with_prob(image_path)\n",
    "\n",
    "# Comparando as probabilidades e atribuindo a classe com maior probabilidade\n",
    "if black_probability > red_probability:\n",
    "    predicted_class = \"black\"\n",
    "    higher_probability = black_probability\n",
    "else:\n",
    "    predicted_class = \"red\"\n",
    "    higher_probability = red_probability\n",
    "\n",
    "print(f\"A classe do solo é: {predicted_class}\")\n",
    "print(f\"Probabilidade de ser solo preto: {black_probability * 100:.2f}%\")\n",
    "print(f\"Probabilidade de ser solo vermelho: {red_probability * 100:.2f}%\")"
   ]
  }
 ],
 "metadata": {
  "kernelspec": {
   "display_name": "Python 3",
   "language": "python",
   "name": "python3"
  },
  "language_info": {
   "codemirror_mode": {
    "name": "ipython",
    "version": 3
   },
   "file_extension": ".py",
   "mimetype": "text/x-python",
   "name": "python",
   "nbconvert_exporter": "python",
   "pygments_lexer": "ipython3",
   "version": "3.12.2"
  }
 },
 "nbformat": 4,
 "nbformat_minor": 2
}
